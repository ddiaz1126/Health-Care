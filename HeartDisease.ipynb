{
 "cells": [
  {
   "cell_type": "markdown",
   "id": "1a888db2-9940-4385-91d0-eec43121d852",
   "metadata": {},
   "source": [
    "# Heart Disease Classification"
   ]
  },
  {
   "cell_type": "markdown",
   "id": "5b5f4091-b0ea-4b39-95d0-b205ff08258a",
   "metadata": {},
   "source": [
    "## 1. Problem"
   ]
  },
  {
   "cell_type": "markdown",
   "id": "3670070c-55dc-4098-b3b4-f5f221b95fc1",
   "metadata": {},
   "source": [
    "Cardiovascular diseases are the leading cause of death globally. It is therefore necessary to identify key risk factors and develop a system to predict heart attacks in an effective manner. The data below has the information about the factors that might have an impact on cardiovascular health. While correlation does not imply causation, this study serves as a preliminary exploration to generate hypotheses for future research."
   ]
  },
  {
   "cell_type": "markdown",
   "id": "338efad9",
   "metadata": {},
   "source": [
    "<img src=\"./Heart%20Disease%20Mind%20Map.png\" alt=\"Heart Rate Image\" width=\"800\"/>"
   ]
  },
  {
   "cell_type": "markdown",
   "id": "0a01b40a-aeb9-47df-9ec0-ba8b67f6348a",
   "metadata": {},
   "source": [
    "## 2. Exploratory Data Analysis"
   ]
  },
  {
   "cell_type": "code",
   "execution_count": null,
   "id": "d6036d73-47db-4b22-8d1b-e8081d8fffca",
   "metadata": {
    "tags": []
   },
   "outputs": [],
   "source": [
    "# Import Libraries\n",
    "import pickle\n",
    "import logging\n",
    "\n",
    "import pandas as pd\n",
    "import matplotlib.pyplot as plt\n",
    "import seaborn as sns\n",
    "\n",
    "from sklearn.linear_model import LogisticRegression\n",
    "from sklearn.model_selection import train_test_split\n",
    "from sklearn.ensemble import RandomForestClassifier\n",
    "from sklearn.metrics import accuracy_score, roc_auc_score, precision_score, recall_score, f1_score\n",
    "from sklearn.model_selection import RandomizedSearchCV\n",
    "from scipy.stats import randint\n",
    "from tabulate import tabulate"
   ]
  },
  {
   "cell_type": "code",
   "execution_count": null,
   "id": "dad5a584",
   "metadata": {},
   "outputs": [],
   "source": [
    "# Instantiate Logging file\n",
    "logging.basicConfig(filename='/HeartDisease.log',\n",
    "                    filemode='w',\n",
    "                    format='%(asctime)s - %(levelname)s - %(message)s',\n",
    "                    level=logging.INFO )"
   ]
  },
  {
   "cell_type": "code",
   "execution_count": null,
   "id": "928d3b90-9f9e-44fc-b593-5d5adf017232",
   "metadata": {
    "tags": []
   },
   "outputs": [],
   "source": [
    "# Import data from CSV File\n",
    "df = pd.read_csv(\"Heart1.csv\")"
   ]
  },
  {
   "cell_type": "code",
   "execution_count": null,
   "id": "4d513641-4f15-4ac4-be85-5f8a45f35de6",
   "metadata": {
    "tags": []
   },
   "outputs": [],
   "source": [
    "# Explore Schema\n",
    "df.info(memory_usage='missing')"
   ]
  },
  {
   "cell_type": "markdown",
   "id": "2c894681-8e67-4908-9dc5-0b0acb242cf6",
   "metadata": {},
   "source": [
    "There are 303 rows and 14 columns. All columns are numerical (13 int64, 1 float64). This file is 33.3 KB. "
   ]
  },
  {
   "cell_type": "code",
   "execution_count": null,
   "id": "a1fb29bc-a576-43fd-9963-c7b55ece51aa",
   "metadata": {
    "tags": []
   },
   "outputs": [],
   "source": [
    "# Desciptive Statistics\n",
    "df.describe()"
   ]
  },
  {
   "cell_type": "code",
   "execution_count": null,
   "id": "13619434-21ca-4c7e-b604-7cc8e9cdb634",
   "metadata": {
    "tags": []
   },
   "outputs": [],
   "source": [
    "# Correlation on a Heatmap\n",
    "def find_correlations(frame):\n",
    "    frame = frame.corr()\n",
    "    vmin = -1.0\n",
    "    vmax = -0.3\n",
    "    cmap = \"Reds\"\n",
    "    annot=True\n",
    "    fmt=\".1f\"\n",
    "    g = sns.heatmap(\n",
    "        frame,\n",
    "        vmin=vmin,\n",
    "        vmax=vmax,\n",
    "        cmap=cmap,\n",
    "        annot=annot,\n",
    "        fmt=fmt,\n",
    "        linewidths=1)\n",
    "    g.set_title(\"Correlation Chart\")\n",
    "    \n",
    "find_correlations(df)   "
   ]
  },
  {
   "cell_type": "markdown",
   "id": "e020653f-1c0d-4312-80ca-12e1e0da106b",
   "metadata": {},
   "source": [
    "Target is positively correlated with chest pain type (0.4) and maximum heart rate achieved (0.4). There is also a positve correlation between the slope of peak exercise ST segment and maximum heart rate achieved (0.4). The slope of peak exercise ST segment and ST depression induced by exercise relative to rest (-0.6) have a negative correlation. "
   ]
  },
  {
   "cell_type": "code",
   "execution_count": null,
   "id": "a1832911-0a1b-4b2d-b3c4-4583dc5178e6",
   "metadata": {
    "tags": []
   },
   "outputs": [],
   "source": [
    "# Missing Value Treatment\n",
    "df.isnull().sum()"
   ]
  },
  {
   "cell_type": "markdown",
   "id": "c3117d0b-0075-416f-899a-5819cc0cb034",
   "metadata": {},
   "source": [
    "There are no missing values in the dataset. "
   ]
  },
  {
   "cell_type": "code",
   "execution_count": null,
   "id": "d8bb269e-7429-4bd1-b310-7e269b02f8cd",
   "metadata": {
    "tags": []
   },
   "outputs": [],
   "source": [
    "# Histogram of each column\n",
    "df.hist(figsize=(15,20))\n",
    "plt.show()"
   ]
  },
  {
   "cell_type": "code",
   "execution_count": null,
   "id": "a4522e3b-4b75-44a4-adbb-aab86a743bf8",
   "metadata": {
    "tags": []
   },
   "outputs": [],
   "source": [
    "# Occurrence of CVD across the Age Category\n",
    "sns.violinplot(df,x='target',y='age')\n",
    "plt.show()"
   ]
  },
  {
   "cell_type": "markdown",
   "id": "53ef67d7-3c13-4d82-b6a8-d564c15bb98e",
   "metadata": {},
   "source": [
    "For the group with no cardiovascular disease (target=0), the median age was 58 years old and was also the most frequent age in this group. For the group with cardiovasular disease (target=1), the median was 52 years old as the group was more distributed as the most frequent age was at 53 years old."
   ]
  },
  {
   "cell_type": "code",
   "execution_count": null,
   "id": "989a28bd-9dd7-4833-a1ae-70177f199f74",
   "metadata": {
    "tags": []
   },
   "outputs": [],
   "source": [
    "# Composition of all patients with respect to the Sex category\n",
    "pd.crosstab(df['target'], df['sex'])"
   ]
  },
  {
   "cell_type": "markdown",
   "id": "2aafae67-0541-44c6-a760-d13c9138e37d",
   "metadata": {},
   "source": [
    "Regarding gender, 93 males and 72 females in this dataset has a cardiovascular disease. 114 males and 24 females do not have a cardiovascular disease."
   ]
  },
  {
   "cell_type": "code",
   "execution_count": null,
   "id": "3d8e8a83-2e0d-46ce-950b-d649d1d7620d",
   "metadata": {
    "tags": []
   },
   "outputs": [],
   "source": [
    "# Relationship between cholesterol levels and a target variable\n",
    "chol_t = df[['chol','target']]\n",
    "print(chol_t.corr())\n",
    "sns.violinplot(df,x='target',y='chol')\n",
    "plt.show()"
   ]
  },
  {
   "cell_type": "code",
   "execution_count": null,
   "id": "1747bca4-590e-4704-8472-7954eae796aa",
   "metadata": {
    "tags": []
   },
   "outputs": [],
   "source": [
    "# Boxplot to see outliers\n",
    "plt.boxplot(df)\n",
    "plt.figure(figsize =(100, 70))"
   ]
  },
  {
   "cell_type": "code",
   "execution_count": null,
   "id": "a4a7d002-af91-44d6-a89d-d0518be8a948",
   "metadata": {
    "tags": []
   },
   "outputs": [],
   "source": [
    "sns.countplot(data=df,x='target')"
   ]
  },
  {
   "cell_type": "markdown",
   "id": "c14711c5-69bc-4095-b385-24b5d100ba04",
   "metadata": {},
   "source": [
    "The dependent variable (target) seems to be balanced (0=140;1=160)"
   ]
  },
  {
   "cell_type": "markdown",
   "id": "a54638fb-505f-461d-ae83-8ecce2e230eb",
   "metadata": {},
   "source": [
    "## 3. Feature Selection"
   ]
  },
  {
   "cell_type": "code",
   "execution_count": null,
   "id": "7203d127-b9d9-444c-853b-017f53e09d10",
   "metadata": {
    "tags": []
   },
   "outputs": [],
   "source": [
    "# Seperate Dependent Variable from Independent Variables\n",
    "y = df[\"target\"]\n",
    "X = df.drop(columns=[\"target\"])"
   ]
  },
  {
   "cell_type": "code",
   "execution_count": null,
   "id": "3be87690-adee-4dbb-832c-d1c538e22901",
   "metadata": {
    "tags": []
   },
   "outputs": [],
   "source": [
    "# Train-Test Split\n",
    "X_train, X_test, y_train, y_test = train_test_split(X, y,test_size=0.3, random_state=42)"
   ]
  },
  {
   "cell_type": "code",
   "execution_count": null,
   "id": "943588fc-2ee1-4236-aa8d-a4993398f424",
   "metadata": {},
   "outputs": [],
   "source": [
    "# Export columns used for predictions on new data\n",
    "with open ('pred_columns.pkl', 'wb') as name:\n",
    "    pickle.dump(X_train.columns.tolist(), name)"
   ]
  },
  {
   "cell_type": "code",
   "execution_count": null,
   "id": "c570e093-ba5e-408f-a3e4-a720fa08f142",
   "metadata": {
    "tags": []
   },
   "outputs": [],
   "source": [
    "# Istantiate Logistical Regression\n",
    "lr = LogisticRegression(max_iter=1000)"
   ]
  },
  {
   "cell_type": "code",
   "execution_count": null,
   "id": "60196f5c-9a58-4eec-b022-aee494bcd448",
   "metadata": {
    "tags": []
   },
   "outputs": [],
   "source": [
    "# Accuracy Score on Train Dataset\n",
    "lr.fit(X_train,y_train)"
   ]
  },
  {
   "cell_type": "code",
   "execution_count": null,
   "id": "63bb58b8-80b8-4724-ae7b-0e8b4a6834ae",
   "metadata": {
    "tags": []
   },
   "outputs": [],
   "source": [
    "# Accuracy Score on Test Dataset\n",
    "y_pred = lr.predict(X_test)"
   ]
  },
  {
   "cell_type": "code",
   "execution_count": null,
   "id": "352a41f8-e05d-4910-a711-d87a91f4f22f",
   "metadata": {
    "tags": []
   },
   "outputs": [],
   "source": [
    "# Random forest model\n",
    "rfc = RandomForestClassifier(n_estimators=1000)\n",
    "rfc.fit(X_train,y_train)"
   ]
  },
  {
   "cell_type": "code",
   "execution_count": null,
   "id": "733e0c74-5849-448a-bd54-8f22e82e17dc",
   "metadata": {
    "tags": []
   },
   "outputs": [],
   "source": [
    "predictions = rfc.predict(X_test)"
   ]
  },
  {
   "cell_type": "code",
   "execution_count": null,
   "id": "824f32bf-c9b0-4eb2-a849-eb11419ebe38",
   "metadata": {
    "tags": []
   },
   "outputs": [],
   "source": [
    "# Scores for Logistic Regression\n",
    "lr_ac = accuracy_score(y_test,y_pred)\n",
    "lr_pre = precision_score(y_test,y_pred)\n",
    "lr_rec = recall_score(y_test,y_pred)\n",
    "lr_f = f1_score(y_test,y_pred)\n",
    "lr_train_roc = roc_auc_score(y_train, lr.predict(X_train))\n",
    "lr_test_roc = roc_auc_score(y_test, y_pred)\n",
    "\n",
    "# Scores for Random Forest\n",
    "rf_ac = accuracy_score(y_test,predictions)\n",
    "rf_pre = precision_score(y_test,predictions)\n",
    "rf_rec = recall_score(y_test,predictions)\n",
    "rf_f = f1_score(y_test,predictions)\n",
    "rf_train_roc = roc_auc_score(y_train, rfc.predict(X_train))\n",
    "rf_test_roc = roc_auc_score(y_test, predictions)"
   ]
  },
  {
   "cell_type": "code",
   "execution_count": null,
   "id": "6dfb56ef-9e04-49c8-b2da-b9f4fbf1db28",
   "metadata": {
    "tags": []
   },
   "outputs": [],
   "source": [
    "#Performing evaluation matrix comparison\n",
    "m_tab = pd.DataFrame(columns = [\"Comparison Matrix\", \"Logistic Regression Model\", \"Random Forest Model\"])\n",
    "m_tab[\"Comparison Matrix\"] = [\"Accuracy Score\", \"Precision Score\",\"Recall Score\", \"F1 Score\",\"Train ROC\",\"Test ROC\"]\n",
    "m_tab[\"Logistic Regression Model\"] = [lr_ac, lr_pre, lr_rec, lr_f, lr_train_roc, lr_test_roc]\n",
    "m_tab[\"Random Forest Model\"] = [rf_ac, rf_pre, rf_rec, rf_f, rf_train_roc, rf_test_roc]\n",
    "\n",
    "print(tabulate(m_tab, headers = 'keys', tablefmt = 'psql', numalign=\"left\"))"
   ]
  },
  {
   "cell_type": "markdown",
   "id": "a462ee25-cbf2-4715-8c24-b20034f98d6a",
   "metadata": {},
   "source": [
    "## Hyperparamater Tuning"
   ]
  },
  {
   "cell_type": "code",
   "execution_count": null,
   "id": "13fafa49-cf68-44ad-9b70-dc4fd0637b6e",
   "metadata": {
    "tags": []
   },
   "outputs": [],
   "source": [
    "# RandomizedSearchCV\n",
    "distributions = {\"n_estimators\": randint(1, 100),\n",
    "                 \"max_depth\": randint(3,10)}\n",
    "RFC = RandomForestClassifier()\n",
    "RFC_clf_rs = RandomizedSearchCV(RFC, distributions, n_iter=20, verbose=False)\n",
    "RFC_clf_rs.fit(X_train, y_train)\n",
    "print(RFC_clf_rs.best_params_)\n",
    "print(RFC_clf_rs.best_score_)"
   ]
  },
  {
   "cell_type": "code",
   "execution_count": null,
   "id": "658d3328-d097-41fd-8ccb-b706983b7ed2",
   "metadata": {
    "tags": []
   },
   "outputs": [],
   "source": [
    "# Train final model\n",
    "RFC_final = RandomForestClassifier(n_estimators= RFC_clf_rs.best_params_[\"n_estimators\"], \n",
    "                               max_depth= RFC_clf_rs.best_params_[\"max_depth\"])"
   ]
  },
  {
   "cell_type": "code",
   "execution_count": null,
   "id": "415856cc-7cdb-450d-b56c-52b1199567b0",
   "metadata": {
    "tags": []
   },
   "outputs": [],
   "source": [
    "RFC_final.fit(X_train, y_train)"
   ]
  },
  {
   "cell_type": "code",
   "execution_count": null,
   "id": "4db60e2f-adae-4e96-aa8c-cb24156ab69b",
   "metadata": {
    "tags": []
   },
   "outputs": [],
   "source": [
    "predictions1 = RFC_final.predict(X_test)"
   ]
  },
  {
   "cell_type": "code",
   "execution_count": null,
   "id": "0c4ab252-fee2-48ea-bc73-518cc7827c65",
   "metadata": {
    "tags": []
   },
   "outputs": [],
   "source": [
    "rf_ac1 = accuracy_score(y_test,predictions1)\n",
    "rf_pre1 = precision_score(y_test,predictions1)\n",
    "rf_rec1 = recall_score(y_test,predictions1)\n",
    "rf_f1 = f1_score(y_test,predictions1)\n",
    "rf_train_roc1 = roc_auc_score(y_train, RFC_final.predict(X_train))\n",
    "rf_test_roc1 = roc_auc_score(y_test, predictions1)"
   ]
  },
  {
   "cell_type": "code",
   "execution_count": null,
   "id": "551d7fe0-24c1-4220-80b0-30e693aff6f4",
   "metadata": {
    "tags": []
   },
   "outputs": [],
   "source": [
    "#Performing evaluation matrix comparison\n",
    "m_tab = pd.DataFrame(columns = [\"Comparison Matrix\", \"Logistic Regression Model\", \"Random Forest Model\"])\n",
    "m_tab[\"Comparison Matrix\"] = [\"Accuracy Score\", \"Precision Score\",\"Recall Score\", \"F1 Score\",\"Train ROC\",\"Test ROC\"]\n",
    "m_tab[\"Logistic Regression Model\"] = [lr_ac, lr_pre, lr_rec, lr_f, lr_train_roc, lr_test_roc]\n",
    "m_tab[\"Random Forest Model\"] = [rf_ac1, rf_pre1, rf_rec1, rf_f1, rf_train_roc1, rf_test_roc1]\n",
    "\n",
    "print(tabulate(m_tab, headers = 'keys', tablefmt = 'psql', numalign=\"left\"))"
   ]
  },
  {
   "cell_type": "code",
   "execution_count": null,
   "id": "afa79472-e704-458e-a26d-bd751016eea8",
   "metadata": {
    "tags": []
   },
   "outputs": [],
   "source": [
    "RFC_final.fit(X_train, y_train)\n",
    "with open ('RFC_final.pkl', 'wb') as name:\n",
    "    pickle.dump(RFC_final, name)"
   ]
  }
 ],
 "metadata": {
  "kernelspec": {
   "display_name": "Python 3",
   "language": "python",
   "name": "python3"
  },
  "language_info": {
   "codemirror_mode": {
    "name": "ipython",
    "version": 3
   },
   "file_extension": ".py",
   "mimetype": "text/x-python",
   "name": "python",
   "nbconvert_exporter": "python",
   "pygments_lexer": "ipython3",
   "version": "3.11.4"
  }
 },
 "nbformat": 4,
 "nbformat_minor": 5
}
